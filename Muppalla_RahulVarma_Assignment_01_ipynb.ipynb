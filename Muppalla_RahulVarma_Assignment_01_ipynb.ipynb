{
  "cells": [
    {
      "cell_type": "markdown",
      "metadata": {
        "id": "view-in-github",
        "colab_type": "text"
      },
      "source": [
        "<a href=\"https://colab.research.google.com/github/msrahulvarma/RahulVarma_INFO5731_Fall2023/blob/main/Muppalla_RahulVarma_Assignment_01_ipynb.ipynb\" target=\"_parent\"><img src=\"https://colab.research.google.com/assets/colab-badge.svg\" alt=\"Open In Colab\"/></a>"
      ]
    },
    {
      "cell_type": "markdown",
      "metadata": {
        "id": "Ryk8D1Q4Wsrp"
      },
      "source": [
        "# **INFO5731 Assignment One**"
      ]
    },
    {
      "cell_type": "markdown",
      "metadata": {
        "id": "90_NR8c5XGWc"
      },
      "source": [
        "# Question 1\n",
        "\n",
        "(20 points). Write a Python program to generate 12 random numbers between 1 and 100. Sort the list of numbers in ascending order and print it out. Sort the list of numbers in descending order and print it out. Calculate the average for the group and print it out."
      ]
    },
    {
      "cell_type": "code",
      "execution_count": null,
      "metadata": {
        "id": "5QX6bJjGWXY9",
        "colab": {
          "base_uri": "https://localhost:8080/"
        },
        "outputId": "c6625a2f-d234-4c6a-c056-f19d6f0f938e"
      },
      "outputs": [
        {
          "output_type": "stream",
          "name": "stdout",
          "text": [
            "Generated numbers: [11, 66, 70, 53, 54, 8, 30, 27, 26, 72, 52, 28]\n",
            "Ascending order: [8, 11, 26, 27, 28, 30, 52, 53, 54, 66, 70, 72]\n",
            "Descending order: [72, 70, 66, 54, 53, 52, 30, 28, 27, 26, 11, 8]\n",
            "Average: 41.416666666666664\n"
          ]
        }
      ],
      "source": [
        "# Your code here\n",
        "import random\n",
        "\n",
        "# Generate 12 random numbers between 1 and 100\n",
        "random_numbers = [random.randint(1, 100) for _ in range(12)]\n",
        "ascending_sorted = sorted(random_numbers)\n",
        "descending_sorted = sorted(random_numbers, reverse=True)\n",
        "average = sum(random_numbers) / len(random_numbers)\n",
        "\n",
        "# Print the results\n",
        "print(\"Generated numbers:\", random_numbers)\n",
        "print(\"Ascending order:\", ascending_sorted)\n",
        "print(\"Descending order:\", descending_sorted)\n",
        "print(\"Average:\", average)\n",
        "\n"
      ]
    },
    {
      "cell_type": "markdown",
      "metadata": {
        "id": "1F_PZdH9Sh49"
      },
      "source": [
        "# Question 2\n",
        "(25 points).\n",
        "\n",
        "Write a program that will do the following string formatting tasks:\n",
        "\n",
        "(1) Ask the user to enter two sentences.\n",
        "\n",
        "(2) Make each sentence into a list. Each element in the list should correspond to a word in the sentence. For example, if the sentence is \"Alas! Am I alive? This is my first python program\", the program should print out ['Alas, '!', 'Am', 'I', 'alive, '?', 'This', 'is', 'my', 'first', 'python', 'program'].\n",
        "\n",
        "(3) Compare the two sentences. Print out a list of words that occur in both sentences.\n",
        "\n",
        "(4) Remove any punctuation from the sentence and print it back out. It should remove at least the following characters, but it can remove more: period(“.”), comma (“,”), semicolon (“;”), and colon (“:”)\n",
        "\n",
        "(5) Count the number of vowels in the sentences. Print out each vowel and the number of times it appears in the sentences, such as: a:2, e:1, i:0, etc"
      ]
    },
    {
      "cell_type": "code",
      "execution_count": null,
      "metadata": {
        "id": "Y0oOSlsOS0cq",
        "colab": {
          "base_uri": "https://localhost:8080/"
        },
        "outputId": "332c03d0-0a3c-47c3-d1f4-174c6bddb9c1"
      },
      "outputs": [
        {
          "output_type": "stream",
          "name": "stdout",
          "text": [
            "Enter the first sentence: rahul\n",
            "Enter the second sentence: varma\n",
            "List from sentence 1: ['rahul', '']\n",
            "List from sentence 2: ['varma', '']\n",
            "Common words: ['']\n",
            "Sentence 1 without punctuation: rahul\n",
            "Sentence 2 without punctuation: varma\n",
            "Vowel counts in sentence 1: {'a': 1, 'e': 0, 'i': 0, 'o': 0, 'u': 1, 'A': 0, 'E': 0, 'I': 0, 'O': 0, 'U': 0}\n",
            "Vowel counts in sentence 2: {'a': 2, 'e': 0, 'i': 0, 'o': 0, 'u': 0, 'A': 0, 'E': 0, 'I': 0, 'O': 0, 'U': 0}\n"
          ]
        }
      ],
      "source": [
        "# Your code here\n",
        "import string\n",
        "\n",
        "sentence1 = input(\"Enter the first sentence: \")\n",
        "sentence2 = input(\"Enter the second sentence: \")\n",
        "\n",
        "def sentence_to_list(sentence):\n",
        "    words = sentence.split()\n",
        "    word_list = []\n",
        "    for word in words:\n",
        "        cleaned_word = ''.join(char for char in word if char not in string.punctuation)\n",
        "        word_list.extend([cleaned_word, word.strip(string.ascii_letters)])\n",
        "    return word_list\n",
        "\n",
        "list1 = sentence_to_list(sentence1)\n",
        "list2 = sentence_to_list(sentence2)\n",
        "\n",
        "print(\"List from sentence 1:\", list1)\n",
        "print(\"List from sentence 2:\", list2)\n",
        "\n",
        "common_words = set(list1) & set(list2)\n",
        "print(\"Common words:\", list(common_words))\n",
        "\n",
        "def remove_punctuation(sentence):\n",
        "    return ''.join(char for char in sentence if char not in string.punctuation)\n",
        "\n",
        "sentence1_no_punctuation = remove_punctuation(sentence1)\n",
        "sentence2_no_punctuation = remove_punctuation(sentence2)\n",
        "\n",
        "print(\"Sentence 1 without punctuation:\", sentence1_no_punctuation)\n",
        "print(\"Sentence 2 without punctuation:\", sentence2_no_punctuation)\n",
        "def count_vowels(sentence):\n",
        "    vowels = \"aeiouAEIOU\"\n",
        "    vowel_count = {}\n",
        "    for vowel in vowels:\n",
        "        count = sentence.count(vowel)\n",
        "        vowel_count[vowel] = count\n",
        "    return vowel_count\n",
        "\n",
        "vowel_count1 = count_vowels(sentence1)\n",
        "vowel_count2 = count_vowels(sentence2)\n",
        "\n",
        "print(\"Vowel counts in sentence 1:\", vowel_count1)\n",
        "print(\"Vowel counts in sentence 2:\", vowel_count2)\n",
        "\n"
      ]
    },
    {
      "cell_type": "markdown",
      "metadata": {
        "id": "CmFoI4jDS9nx"
      },
      "source": [
        "# Question 3\n",
        "\n",
        "(15 points). The formula that describes the volume V of a sphere with radius r is the following:\n",
        "\n",
        "$ V=\\frac{4}{3}\\ast\\ \\pi\\ast\\ r^3 $\n",
        "\n",
        "Write a program to calculate the value of V when r is in the range of 1–10. Output the result in the following format:\n",
        "\n",
        "\tr\tV\n",
        "\t1\t…\n",
        "\t2\t…\n",
        "\t3\t…\n"
      ]
    },
    {
      "cell_type": "code",
      "execution_count": null,
      "metadata": {
        "id": "pEyqeioAT95b",
        "colab": {
          "base_uri": "https://localhost:8080/"
        },
        "outputId": "6815f2e0-2c24-46ca-9e3b-1605c6ccb70e"
      },
      "outputs": [
        {
          "output_type": "stream",
          "name": "stdout",
          "text": [
            "r    V\n",
            "1    4.19\n",
            "2    33.51\n",
            "3    113.10\n",
            "4    268.08\n",
            "5    523.60\n",
            "6    904.78\n",
            "7    1436.76\n",
            "8    2144.66\n",
            "9    3053.63\n",
            "10    4188.79\n"
          ]
        }
      ],
      "source": [
        "import math\n",
        "\n",
        "# Print the header\n",
        "print(\"r    V\")\n",
        "\n",
        "# Calculate and print the volume for each radius from 1 to 10\n",
        "for r in range(1, 11):\n",
        "    V = (4/3) * math.pi * r**3\n",
        "    print(f\"{r}    {V:.2f}\")"
      ]
    },
    {
      "cell_type": "markdown",
      "metadata": {
        "id": "z3tBE7E-Xn5X"
      },
      "source": [
        ":# Question 4\n",
        "\n",
        "(40 points). In the field of Data Science, data is often formatted as a comma-delimited (CSV) file, where each line in a file corresponds to a field's value. Refer to Chapter 9 (p. 106) for more information on comma-delimited files. To answer this question, you will need to download the file [Assignment1_denton_housing.csv](https://raw.githubusercontent.com/unt-iialab/info5731-spring2022/main/assignments/Assignment1_denton_housing.csv) included with this assignment. The file [Assignment1_denton_housing.csv](https://raw.githubusercontent.com/unt-iialab/info5731-spring2022/main/assignments/Assignment1_denton_housing.csv) contains statistics about housing in the city of Denton from 2008 to 2014. Write a program to implement the following questions.\n",
        "\n",
        "(1) (10 pts) Calculate the difference in the number of Occupied Housing Units from year to year and print it. The difference must be calculated for the consecutive years such as 2008-2009, 2009-2010 etc. Finally, print the values in the ascending order.\n",
        "\n",
        "(2) (10 pts) For all the years, calculate the percentage of housing units which are vacant an occupied. Print the results in the following format:\n",
        "\n",
        "Year Vacant Housing Units Occupied Housing Units\n",
        "\n",
        "    2008  30%   70%                          \n",
        "\t2009 ----- -----\n",
        "\t2010 ----- -----\n",
        "    2011 ----- -----\n",
        "\t2012 ----- -----\n",
        "    2013 ----- -----\n",
        "\t2014 ----- -----\n",
        "  \n",
        "  \n",
        "\n",
        "(3) (10 pts) Calculate and print the valued and years in which the highest number of housing units were vacant and occupied. Print the results in the following format:  \n",
        "\n",
        "                              Year\tValue\n",
        "\tVacant Housing Units\t  -----   -----\n",
        "\tOccupied Housing Units\t-----   -----\n",
        "\n",
        "(4) (10 pts) Calculate the harmonic mean of the total housing units and print it out. You can find the information about harmonic mean here: https://ncalculators.com/statistics/harmonic-mean-calculator.htm"
      ]
    },
    {
      "cell_type": "code",
      "execution_count": null,
      "metadata": {
        "id": "lqGYuHBhcsRH",
        "colab": {
          "base_uri": "https://localhost:8080/"
        },
        "outputId": "ff2c4cc9-2a82-42a6-dd39-5150a85507b6"
      },
      "outputs": [
        {
          "output_type": "stream",
          "name": "stdout",
          "text": [
            "(1) Differences in the number of Occupied Housing Units from year to year (Ascending Order):\n",
            "0    -795\n",
            "1    5091\n",
            "2    -303\n",
            "3    1404\n",
            "4    1565\n",
            "5    2622\n",
            "Name: value, dtype: int64\n",
            "\n",
            "(2) Percentage of housing units which are vacant and occupied for all years:\n",
            " Year Vacant Housing Units Occupied Housing Units\n",
            " 2014               10.88%                 89.12%\n",
            " 2013                9.07%                 90.93%\n",
            " 2012                8.14%                 91.86%\n",
            " 2011                9.38%                 90.62%\n",
            " 2010                6.68%                 93.32%\n",
            " 2009                8.80%                 91.20%\n",
            " 2008                5.73%                 94.27%\n",
            "\n",
            "(3) Years and values with the highest number of vacant and occupied housing units:\n",
            "Vacant Housing Units: Year 2014, Value 10.88%\n",
            "Occupied Housing Units: Year 2008, Value 94.27%\n",
            "\n",
            "(4) Harmonic mean of the total housing units: 44398.28543969185\n"
          ]
        }
      ],
      "source": [
        "import pandas as pd\n",
        "\n",
        "# Load the CSV\n",
        "df = pd.read_csv(r\"Assignment1_denton_housing.csv\")\n",
        "\n",
        "#the number of Occupied Housing Units from year to year\n",
        "occupied_diff = df[df[\"title_field\"] == \"Occupied Housing Units\"].sort_values(\"year\")[\"value\"].diff().dropna().astype(int)\n",
        "\n",
        "#the percentage of housing units that are vacant and occupied for all years\n",
        "total_units = df[df[\"title_field\"] == \"Total Housing Units\"].sort_values(\"year\")[\"value\"].values\n",
        "vacant_units = df[df[\"title_field\"] == \"Vacant Housing Units\"].sort_values(\"year\")[\"value\"].values\n",
        "occupied_units = df[df[\"title_field\"] == \"Occupied Housing Units\"].sort_values(\"year\")[\"value\"].values\n",
        "percentage_vacant = (vacant_units / total_units) * 100\n",
        "percentage_occupied = (occupied_units / total_units) * 100\n",
        "\n",
        "# Create a DataFrame to store the results\n",
        "result_df = pd.DataFrame({\n",
        "    \"Year\": df[\"year\"].unique(),\n",
        "    \"Vacant Housing Units\": [\"{:.2f}%\".format(pct) for pct in percentage_vacant],\n",
        "    \"Occupied Housing Units\": [\"{:.2f}%\".format(pct) for pct in percentage_occupied]\n",
        "})\n",
        "\n",
        "#print the years and values for the highest number of vacant and occupied housing units\n",
        "max_vacant_idx = result_df[\"Vacant Housing Units\"].str.rstrip(\"%\").astype(float).idxmax()\n",
        "max_vacant_year = result_df.loc[max_vacant_idx, \"Year\"]\n",
        "max_vacant_value = result_df.loc[max_vacant_idx, \"Vacant Housing Units\"]\n",
        "\n",
        "max_occupied_idx = result_df[\"Occupied Housing Units\"].str.rstrip(\"%\").astype(float).idxmax()\n",
        "max_occupied_year = result_df.loc[max_occupied_idx, \"Year\"]\n",
        "max_occupied_value = result_df.loc[max_occupied_idx, \"Occupied Housing Units\"]\n",
        "\n",
        "# Calculate the harmonic mean of the total housing units\n",
        "harmonic_mean = len(total_units) / sum(1 / x for x in total_units)\n",
        "\n",
        "# (1)\n",
        "print(\"(1) Differences in the number of Occupied Housing Units from year to year (Ascending Order):\")\n",
        "print(occupied_diff.reset_index(drop=True))\n",
        "\n",
        "# (2)\n",
        "print(\"\\n(2) Percentage of housing units which are vacant and occupied for all years:\")\n",
        "print(result_df.to_string(index=False))\n",
        "\n",
        "# (3)\n",
        "print(\"\\n(3) Years and values with the highest number of vacant and occupied housing units:\")\n",
        "print(f\"Vacant Housing Units: Year {max_vacant_year}, Value {max_vacant_value}\")\n",
        "print(f\"Occupied Housing Units: Year {max_occupied_year}, Value {max_occupied_value}\")\n",
        "\n",
        "# (4)\n",
        "print(\"\\n(4) Harmonic mean of the total housing units:\", harmonic_mean)\n"
      ]
    }
  ],
  "metadata": {
    "colab": {
      "provenance": [],
      "include_colab_link": true
    },
    "kernelspec": {
      "display_name": "Python 3 (ipykernel)",
      "language": "python",
      "name": "python3"
    },
    "language_info": {
      "codemirror_mode": {
        "name": "ipython",
        "version": 3
      },
      "file_extension": ".py",
      "mimetype": "text/x-python",
      "name": "python",
      "nbconvert_exporter": "python",
      "pygments_lexer": "ipython3",
      "version": "3.9.12"
    }
  },
  "nbformat": 4,
  "nbformat_minor": 0
}