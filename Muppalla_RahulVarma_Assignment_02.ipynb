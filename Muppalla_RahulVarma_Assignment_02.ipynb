{
  "cells": [
    {
      "cell_type": "markdown",
      "metadata": {
        "id": "view-in-github",
        "colab_type": "text"
      },
      "source": [
        "<a href=\"https://colab.research.google.com/github/msrahulvarma/RahulVarma_INFO5731_Fall2023/blob/main/Muppalla_RahulVarma_Assignment_02.ipynb\" target=\"_parent\"><img src=\"https://colab.research.google.com/assets/colab-badge.svg\" alt=\"Open In Colab\"/></a>"
      ]
    },
    {
      "cell_type": "markdown",
      "metadata": {
        "id": "USSdXHuqnwv9"
      },
      "source": [
        "# **INFO5731 Assignment Two**\n",
        "\n",
        "In this assignment, you will try to gather text data from open data source via web scraping or API. After that you need to clean the text data and syntactic analysis of the data."
      ]
    },
    {
      "cell_type": "markdown",
      "metadata": {
        "id": "YWxodXh5n4xF"
      },
      "source": [
        "# **Question 1**"
      ]
    },
    {
      "cell_type": "markdown",
      "metadata": {
        "id": "TenBkDJ5n95k"
      },
      "source": [
        "(40 points). Write a python program to collect text data from **either of the following sources** and save the data into a **csv file**:\n",
        "\n",
        "(1) Collect all the customer reviews of a product (you can choose any porduct) on amazon.\n",
        "\n",
        "(2) Collect the top 10000 User Reviews of a film recently in 2023 or 2022 (you can choose any film) from IMDB.\n",
        "\n",
        "(3) Collect all the reviews of the top 1000 most popular software from [G2](https://www.g2.com/) or [Capterra](https://www.capterra.com/)\n",
        "\n",
        "(4) Collect the abstracts of the top 10000 research papers by using the query \"machine learning\", \"data science\", \"artifical intelligence\", or \"information extraction\" from [Semantic Scholar](https://www.semanticscholar.org).\n",
        "\n",
        "(5) Collect all the information of the 904 narrators in the [Densho Digital Repository](https://ddr.densho.org/narrators/).\n",
        "\n",
        "(6) Collect the top 10000 reddits by using a hashtag (you can use any hashtag) from Reddits.\n"
      ]
    },
    {
      "cell_type": "code",
      "source": [
        "import requests\n",
        "from bs4 import BeautifulSoup\n",
        "import csv\n",
        "\n",
        "headers = {\n",
        "    'User-Agent': 'Mozilla/5.0 (Windows NT 10.0; Win64; x64) AppleWebKit/537.36 (KHTML, like Gecko) Chrome/58.0.3029.110 Safari/537.3'}\n",
        "\n",
        "def get_imdb_reviews(url, num_pages=200):  # Adjusted for 200 pages to attempt 10,000 reviews\n",
        "    reviews = []\n",
        "\n",
        "    for page in range(1, num_pages + 1):\n",
        "        response = requests.get(url + '?start=' + str((page-1)*50), headers=headers)\n",
        "        soup = BeautifulSoup(response.content, 'html.parser')\n",
        "\n",
        "        review_divs = soup.find_all('div', {'class': 'text show-more__control'})\n",
        "\n",
        "        for review in review_divs:\n",
        "            reviews.append(review.text.strip())\n",
        "\n",
        "        # Break if there are no more reviews\n",
        "        if not review_divs:\n",
        "            break\n",
        "\n",
        "    return reviews\n",
        "\n",
        "def save_to_csv(reviews, filename=\"reviews.csv\"):\n",
        "    with open(filename, mode='w', newline='', encoding='utf-8') as file:\n",
        "        writer = csv.writer(file)\n",
        "        writer.writerow([\"Review Number\", \"Review Text\"])\n",
        "        for i, review in enumerate(reviews, 1):\n",
        "            writer.writerow([i, review])\n",
        "\n",
        "# Example usage:\n",
        "url = 'https://www.imdb.com/title/tt11858890/reviews/?ref_=tt_ql_2'\n",
        "reviews = get_imdb_reviews(url)\n",
        "\n",
        "# Save the first 500 reviews to a CSV file\n",
        "save_to_csv(reviews[:10000])\n",
        "\n",
        "print(\"10000 reviews saved to reviews.csv\")\n"
      ],
      "metadata": {
        "colab": {
          "base_uri": "https://localhost:8080/"
        },
        "id": "yi7LkCj3-TGc",
        "outputId": "49d749fb-8a07-4eed-acb3-5c8b8f9619b0"
      },
      "execution_count": 9,
      "outputs": [
        {
          "output_type": "stream",
          "name": "stdout",
          "text": [
            "10000 reviews saved to reviews.csv\n"
          ]
        }
      ]
    },
    {
      "cell_type": "markdown",
      "metadata": {
        "id": "AfpMRCrRwN6Z"
      },
      "source": [
        "# **Question 2**"
      ]
    },
    {
      "cell_type": "markdown",
      "metadata": {
        "id": "1dCQEbDawWCw"
      },
      "source": [
        "(30 points). Write a python program to **clean the text data** you collected above and save the data in a new column in the csv file. The data cleaning steps include:\n",
        "\n",
        "(1) Remove noise, such as special characters and punctuations.\n",
        "\n",
        "(2) Remove numbers.\n",
        "\n",
        "(3) Remove stopwords by using the [stopwords list](https://gist.github.com/sebleier/554280).\n",
        "\n",
        "(4) Lowercase all texts\n",
        "\n",
        "(5) Stemming.\n",
        "\n",
        "(6) Lemmatization."
      ]
    },
    {
      "cell_type": "code",
      "execution_count": 11,
      "metadata": {
        "id": "vATjQNTY8buA",
        "colab": {
          "base_uri": "https://localhost:8080/"
        },
        "outputId": "a11aa9dd-f1e4-4c1d-d45e-8ef4c10d334a"
      },
      "outputs": [
        {
          "output_type": "stream",
          "name": "stderr",
          "text": [
            "[nltk_data] Downloading package stopwords to /root/nltk_data...\n",
            "[nltk_data]   Package stopwords is already up-to-date!\n",
            "[nltk_data] Downloading package wordnet to /root/nltk_data...\n",
            "[nltk_data]   Package wordnet is already up-to-date!\n"
          ]
        },
        {
          "output_type": "stream",
          "name": "stdout",
          "text": [
            "Cleaned reviews saved to cleaned_reviews.csv\n"
          ]
        }
      ],
      "source": [
        "import csv\n",
        "import re\n",
        "import nltk\n",
        "from nltk.corpus import stopwords\n",
        "from nltk.stem import PorterStemmer, WordNetLemmatizer\n",
        "\n",
        "# Download stopwords and wordnet data\n",
        "nltk.download('stopwords')\n",
        "nltk.download('wordnet')\n",
        "\n",
        "# Initialize stemmer and lemmatizer\n",
        "stemmer = PorterStemmer()\n",
        "lemmatizer = WordNetLemmatizer()\n",
        "\n",
        "# Load stopwords\n",
        "stop_words = set(stopwords.words('english'))\n",
        "\n",
        "def clean_text(text):\n",
        "    # (1) Remove noise, such as special characters and punctuations.\n",
        "    text = re.sub(r'[^\\w\\s]', '', text)\n",
        "\n",
        "    # (2) Remove numbers.\n",
        "    text = re.sub(r'\\d+', '', text)\n",
        "\n",
        "    # (4) Lowercase all texts.\n",
        "    text = text.lower()\n",
        "\n",
        "    # Tokenize the text for further processing\n",
        "    words = text.split()\n",
        "\n",
        "    # (3) Remove stopwords.\n",
        "    words = [word for word in words if word not in stop_words]\n",
        "\n",
        "    # (5) Stemming.\n",
        "    words = [stemmer.stem(word) for word in words]\n",
        "\n",
        "    # (6) Lemmatization.\n",
        "    words = [lemmatizer.lemmatize(word) for word in words]\n",
        "\n",
        "    return ' '.join(words)\n",
        "\n",
        "def clean_reviews_in_csv(input_filename, output_filename):\n",
        "    with open(input_filename, 'r', encoding='utf-8') as infile, open(output_filename, 'w', newline='', encoding='utf-8') as outfile:\n",
        "        reader = csv.reader(infile)\n",
        "        writer = csv.writer(outfile)\n",
        "\n",
        "        # Write header\n",
        "        header = next(reader)\n",
        "        writer.writerow(header + ['Cleaned Review'])\n",
        "\n",
        "        for row in reader:\n",
        "            review = row[1]  # Assuming review text is in the second column\n",
        "            cleaned_review = clean_text(review)\n",
        "            writer.writerow(row + [cleaned_review])\n",
        "\n",
        "    print(f\"Cleaned reviews saved to {output_filename}\")\n",
        "\n",
        "clean_reviews_in_csv('reviews.csv', 'cleaned_reviews.csv')\n"
      ]
    },
    {
      "cell_type": "markdown",
      "metadata": {
        "id": "E5mmYIfN8eYV"
      },
      "source": [
        "# **Question 3**"
      ]
    },
    {
      "cell_type": "markdown",
      "metadata": {
        "id": "hsi2y4z88ngX"
      },
      "source": [
        "(30 points). Write a python program to conduct **syntax and structure analysis** of the clean text you just saved above. The syntax and structure analysis includes:\n",
        "\n",
        "(1) Parts of Speech (POS) Tagging: Tag Parts of Speech of each word in the text, and calculate the total number of N(oun), V(erb), Adj(ective), Adv(erb), respectively.\n",
        "\n",
        "(2) Constituency Parsing and Dependency Parsing: print out the constituency parsing trees and dependency parsing trees of all the sentences. Using one sentence as an example to explain your understanding about the constituency parsing tree and dependency parsing tree.\n",
        "\n",
        "(3) Named Entity Recognition: Extract all the entities such as person names, organizations, locations, product names, and date from the clean texts, calculate the count of each entity."
      ]
    },
    {
      "cell_type": "code",
      "source": [
        "import csv\n",
        "import spacy\n",
        "from collections import defaultdict\n",
        "\n",
        "# Load spaCy model\n",
        "nlp = spacy.load(\"en_core_web_sm\")\n",
        "\n",
        "def pos_analysis(filename):\n",
        "    with open(filename, 'r', encoding='utf-8') as file:\n",
        "        reader = csv.reader(file)\n",
        "        next(reader)  # Skip header\n",
        "\n",
        "        pos_counts = defaultdict(int)\n",
        "\n",
        "        for row in reader:\n",
        "            cleaned_review = row[2]\n",
        "            doc = nlp(cleaned_review)\n",
        "\n",
        "            # (1) Parts of Speech (POS) Tagging\n",
        "            for token in doc:\n",
        "                if token.pos_ in [\"NOUN\", \"VERB\", \"ADJ\", \"ADV\"]:\n",
        "                    pos_counts[token.pos_] += 1\n",
        "\n",
        "        # Print POS counts\n",
        "        print(\"Parts of Speech Counts:\")\n",
        "        for pos, count in pos_counts.items():\n",
        "            print(f\"{pos}: {count}\")\n",
        "\n",
        "pos_analysis('cleaned_reviews.csv')\n"
      ],
      "metadata": {
        "colab": {
          "base_uri": "https://localhost:8080/"
        },
        "id": "17rErcWsJJWq",
        "outputId": "7c64517f-128f-45d8-ac93-8d81e33a30d8"
      },
      "execution_count": 31,
      "outputs": [
        {
          "output_type": "stream",
          "name": "stdout",
          "text": [
            "Parts of Speech Counts:\n",
            "ADJ: 100600\n",
            "NOUN: 280400\n",
            "ADV: 27400\n",
            "VERB: 125400\n"
          ]
        }
      ]
    },
    {
      "cell_type": "code",
      "source": [
        "import os\n",
        "import pandas as pd\n",
        "from nltk.parse.stanford import StanfordParser\n",
        "import spacy\n",
        "\n",
        "# Install Java in Colab\n",
        "!apt-get install -y openjdk-8-jdk-headless -qq > /dev/null\n",
        "os.environ[\"JAVA_HOME\"] = \"/usr/lib/jvm/java-8-openjdk-amd64\"\n",
        "\n",
        "# Download the Stanford Parser files and unzip them\n",
        "!wget https://nlp.stanford.edu/software/stanford-parser-3.9.2-models.jar\n",
        "!wget https://nlp.stanford.edu/software/stanford-parser-full-2018-10-17.zip\n",
        "!unzip stanford-parser-full-2018-10-17.zip\n",
        "\n",
        "# Set the CLASSPATH environment variable\n",
        "os.environ['CLASSPATH'] = \"./stanford-parser-full-2018-10-17/stanford-parser.jar:./stanford-parser-3.9.2-models.jar\"\n",
        "\n",
        "# Load spaCy's English NER model\n",
        "nlp = spacy.load(\"en_core_web_sm\")\n",
        "\n",
        "# Read the cleaned_reviews.csv\n",
        "df = pd.read_csv('cleaned_reviews.csv')\n",
        "\n",
        "# Ensure the 'clean_text' column exists\n",
        "if 'Cleaned Review' not in df.columns:\n",
        "    raise ValueError(\"The 'clean_text' column is not present in the CSV.\")\n",
        "\n",
        "# Initialize StanfordParser for Constituency Parsing\n",
        "constituency_parser = StanfordParser(model_path=\"edu/stanford/nlp/models/lexparser/englishPCFG.ser.gz\")\n",
        "\n",
        "# Process each review in the DataFrame\n",
        "for review in df['Cleaned Review']:\n",
        "    sentences = review.split('.')  # Splitting by period to get individual sentences\n",
        "    for sentence in sentences:\n",
        "        # Dependency Parsing using spaCy\n",
        "        doc = nlp(sentence)\n",
        "        print(\"Dependency Parsing for sentence:\", sentence)\n",
        "        for token in doc:\n",
        "            print(f\"{token.text} <--{token.dep_}-- {token.head.text}\")\n",
        "\n",
        "        # Constituency Parsing using Stanford Parser\n",
        "        print(\"\\nConstituency Parsing for sentence:\", sentence)\n",
        "        tree = list(constituency_parser.raw_parse(sentence))\n",
        "        tree[0].pretty_print()\n",
        "\n",
        "        # Break after one sentence for demonstration\n",
        "        break\n",
        "    break\n"
      ],
      "metadata": {
        "colab": {
          "base_uri": "https://localhost:8080/"
        },
        "id": "dg3dQRkZppnC",
        "outputId": "1b3542d2-781a-4bb7-a612-d6f3a0da09ae"
      },
      "execution_count": 33,
      "outputs": [
        {
          "output_type": "stream",
          "name": "stdout",
          "text": [
            "--2023-10-18 17:15:18--  https://nlp.stanford.edu/software/stanford-parser-3.9.2-models.jar\n",
            "Resolving nlp.stanford.edu (nlp.stanford.edu)... 171.64.67.140\n",
            "Connecting to nlp.stanford.edu (nlp.stanford.edu)|171.64.67.140|:443... connected.\n",
            "HTTP request sent, awaiting response... 302 FOUND\n",
            "Location: https://downloads.cs.stanford.edu/nlp/software/stanford-parser-3.9.2-models.jar [following]\n",
            "--2023-10-18 17:15:19--  https://downloads.cs.stanford.edu/nlp/software/stanford-parser-3.9.2-models.jar\n",
            "Resolving downloads.cs.stanford.edu (downloads.cs.stanford.edu)... 171.64.64.22\n",
            "Connecting to downloads.cs.stanford.edu (downloads.cs.stanford.edu)|171.64.64.22|:443... connected.\n",
            "HTTP request sent, awaiting response... 404 Not Found\n",
            "2023-10-18 17:15:19 ERROR 404: Not Found.\n",
            "\n",
            "--2023-10-18 17:15:19--  https://nlp.stanford.edu/software/stanford-parser-full-2018-10-17.zip\n",
            "Resolving nlp.stanford.edu (nlp.stanford.edu)... 171.64.67.140\n",
            "Connecting to nlp.stanford.edu (nlp.stanford.edu)|171.64.67.140|:443... connected.\n",
            "HTTP request sent, awaiting response... 302 FOUND\n",
            "Location: https://downloads.cs.stanford.edu/nlp/software/stanford-parser-full-2018-10-17.zip [following]\n",
            "--2023-10-18 17:15:20--  https://downloads.cs.stanford.edu/nlp/software/stanford-parser-full-2018-10-17.zip\n",
            "Resolving downloads.cs.stanford.edu (downloads.cs.stanford.edu)... 171.64.64.22\n",
            "Connecting to downloads.cs.stanford.edu (downloads.cs.stanford.edu)|171.64.64.22|:443... connected.\n",
            "HTTP request sent, awaiting response... 200 OK\n",
            "Length: 641564462 (612M) [application/zip]\n",
            "Saving to: ‘stanford-parser-full-2018-10-17.zip’\n",
            "\n",
            "stanford-parser-ful 100%[===================>] 611.84M  5.11MB/s    in 1m 59s  \n",
            "\n",
            "2023-10-18 17:17:20 (5.13 MB/s) - ‘stanford-parser-full-2018-10-17.zip’ saved [641564462/641564462]\n",
            "\n",
            "Archive:  stanford-parser-full-2018-10-17.zip\n",
            "   creating: stanford-parser-full-2018-10-17/\n",
            "  inflating: stanford-parser-full-2018-10-17/README.txt  \n",
            "   creating: stanford-parser-full-2018-10-17/data/\n",
            "  inflating: stanford-parser-full-2018-10-17/data/testsent.txt  \n",
            " extracting: stanford-parser-full-2018-10-17/data/chinese-onesent-unseg-gb18030.txt  \n",
            " extracting: stanford-parser-full-2018-10-17/data/english-onesent.txt  \n",
            " extracting: stanford-parser-full-2018-10-17/data/chinese-onesent-gb18030.txt  \n",
            " extracting: stanford-parser-full-2018-10-17/data/chinese-onesent-utf8.txt  \n",
            "  inflating: stanford-parser-full-2018-10-17/data/french-onesent.txt  \n",
            " extracting: stanford-parser-full-2018-10-17/data/arabic-onesent-utf8.txt  \n",
            "  inflating: stanford-parser-full-2018-10-17/data/chinese-onesent-unseg-utf8.txt  \n",
            " extracting: stanford-parser-full-2018-10-17/data/german-onesent.txt  \n",
            "  inflating: stanford-parser-full-2018-10-17/data/pos-sentences.txt  \n",
            " extracting: stanford-parser-full-2018-10-17/ejml-0.23-src.zip  \n",
            "  inflating: stanford-parser-full-2018-10-17/slf4j-api-1.7.12-sources.jar  \n",
            "  inflating: stanford-parser-full-2018-10-17/stanford-parser.jar  \n",
            "  inflating: stanford-parser-full-2018-10-17/build.xml  \n",
            "  inflating: stanford-parser-full-2018-10-17/lexparser-lang.sh  \n",
            "  inflating: stanford-parser-full-2018-10-17/pom.xml  \n",
            "  inflating: stanford-parser-full-2018-10-17/DependencyParserDemo.java  \n",
            "  inflating: stanford-parser-full-2018-10-17/lexparser-gui.command  \n",
            "  inflating: stanford-parser-full-2018-10-17/README_dependencies.txt  \n",
            "  inflating: stanford-parser-full-2018-10-17/lexparser-lang-train-test.sh  \n",
            "   creating: stanford-parser-full-2018-10-17/bin/\n",
            "  inflating: stanford-parser-full-2018-10-17/bin/makeSerialized.csh  \n",
            "  inflating: stanford-parser-full-2018-10-17/bin/run-tb-preproc  \n",
            "  inflating: stanford-parser-full-2018-10-17/StanfordDependenciesManual.pdf  \n",
            "  inflating: stanford-parser-full-2018-10-17/lexparser.bat  \n",
            "  inflating: stanford-parser-full-2018-10-17/stanford-parser-3.9.2-javadoc.jar  \n",
            "  inflating: stanford-parser-full-2018-10-17/stanford-parser-3.9.2-models.jar  \n",
            "   creating: stanford-parser-full-2018-10-17/conf/\n",
            "  inflating: stanford-parser-full-2018-10-17/conf/ftb-latest.conf  \n",
            "  inflating: stanford-parser-full-2018-10-17/conf/atb-latest.conf  \n",
            "  inflating: stanford-parser-full-2018-10-17/stanford-parser-3.9.2-sources.jar  \n",
            "  inflating: stanford-parser-full-2018-10-17/lexparser-gui.bat  \n",
            "  inflating: stanford-parser-full-2018-10-17/slf4j-api.jar  \n",
            "  inflating: stanford-parser-full-2018-10-17/ejml-0.23.jar  \n",
            "  inflating: stanford-parser-full-2018-10-17/Makefile  \n",
            "  inflating: stanford-parser-full-2018-10-17/ParserDemo2.java  \n",
            "  inflating: stanford-parser-full-2018-10-17/lexparser_lang.def  \n",
            "  inflating: stanford-parser-full-2018-10-17/lexparser.sh  \n",
            "  inflating: stanford-parser-full-2018-10-17/ParserDemo.java  \n",
            "  inflating: stanford-parser-full-2018-10-17/lexparser-gui.sh  \n",
            "  inflating: stanford-parser-full-2018-10-17/ShiftReduceDemo.java  \n",
            "  inflating: stanford-parser-full-2018-10-17/LICENSE.txt  \n"
          ]
        },
        {
          "output_type": "stream",
          "name": "stderr",
          "text": [
            "<ipython-input-33-dce4539dddac>:29: DeprecationWarning: The StanfordParser will be deprecated\n",
            "Please use \u001b[91mnltk.parse.corenlp.CoreNLPParser\u001b[0m instead.\n",
            "  constituency_parser = StanfordParser(model_path=\"edu/stanford/nlp/models/lexparser/englishPCFG.ser.gz\")\n"
          ]
        },
        {
          "output_type": "stream",
          "name": "stdout",
          "text": [
            "Dependency Parsing for sentence: lesson movi industri use budget million dollar use splendidli cinematographi amaz terribl surpris rogu one act great stori decentit wasnt without problem though stori move increas pace point lose track what happen suspens disbelief need momentsth theme stori make ai robot think succeed expens human human stori end one face except joshuath dynam joshua alfi far best part movi act great twoit good movi great mean im support movi tri someth newoveral think gareth edward given project filmmak everywher learn budget use\n",
            "lesson <--compound-- movi\n",
            "movi <--nsubj-- cinematographi\n",
            "industri <--amod-- dollar\n",
            "use <--compound-- dollar\n",
            "budget <--compound-- million\n",
            "million <--nummod-- dollar\n",
            "dollar <--compound-- use\n",
            "use <--compound-- cinematographi\n",
            "splendidli <--compound-- cinematographi\n",
            "cinematographi <--nsubj-- was\n",
            "amaz <--advmod-- cinematographi\n",
            "terribl <--compound-- rogu\n",
            "surpris <--compound-- rogu\n",
            "rogu <--pobj-- amaz\n",
            "one <--nummod-- decentit\n",
            "act <--compound-- decentit\n",
            "great <--amod-- stori\n",
            "stori <--compound-- decentit\n",
            "decentit <--nsubj-- was\n",
            "was <--ROOT-- was\n",
            "nt <--neg-- was\n",
            "without <--prep-- was\n",
            "problem <--pobj-- without\n",
            "though <--mark-- move\n",
            "stori <--nsubj-- move\n",
            "move <--advcl-- was\n",
            "increas <--compound-- point\n",
            "pace <--compound-- point\n",
            "point <--dobj-- move\n",
            "lose <--amod-- track\n",
            "track <--dep-- was\n",
            "what <--nsubj-- happen\n",
            "happen <--csubj-- need\n",
            "suspens <--compound-- disbelief\n",
            "disbelief <--nsubj-- need\n",
            "need <--ROOT-- need\n",
            "momentsth <--compound-- stori\n",
            "theme <--compound-- stori\n",
            "stori <--nsubj-- make\n",
            "make <--ccomp-- need\n",
            "ai <--compound-- robot\n",
            "robot <--nsubj-- think\n",
            "think <--ccomp-- make\n",
            "succeed <--xcomp-- think\n",
            "expens <--dobj-- succeed\n",
            "human <--amod-- stori\n",
            "human <--amod-- stori\n",
            "stori <--nsubj-- end\n",
            "end <--ccomp-- make\n",
            "one <--nummod-- face\n",
            "face <--dobj-- end\n",
            "except <--prep-- end\n",
            "joshuath <--compound-- joshua\n",
            "dynam <--compound-- joshua\n",
            "joshua <--compound-- alfi\n",
            "alfi <--pobj-- except\n",
            "far <--advmod-- best\n",
            "best <--advmod-- alfi\n",
            "part <--compound-- movi\n",
            "movi <--nsubj-- act\n",
            "act <--conj-- need\n",
            "great <--amod-- twoit\n",
            "twoit <--nmod-- movi\n",
            "good <--amod-- movi\n",
            "movi <--dobj-- act\n",
            "great <--amod-- mean\n",
            "mean <--parataxis-- think\n",
            "i <--compound-- movi\n",
            "m <--nmod-- movi\n",
            "support <--compound-- movi\n",
            "movi <--nsubj-- think\n",
            "tri <--amod-- think\n",
            "someth <--compound-- newoveral\n",
            "newoveral <--amod-- think\n",
            "think <--ROOT-- think\n",
            "gareth <--compound-- edward\n",
            "edward <--nsubj-- given\n",
            "given <--ccomp-- think\n",
            "project <--compound-- filmmak\n",
            "filmmak <--compound-- everywher\n",
            "everywher <--dobj-- given\n",
            "learn <--ccomp-- think\n",
            "budget <--compound-- use\n",
            "use <--dobj-- learn\n",
            "\n",
            "Constituency Parsing for sentence: lesson movi industri use budget million dollar use splendidli cinematographi amaz terribl surpris rogu one act great stori decentit wasnt without problem though stori move increas pace point lose track what happen suspens disbelief need momentsth theme stori make ai robot think succeed expens human human stori end one face except joshuath dynam joshua alfi far best part movi act great twoit good movi great mean im support movi tri someth newoveral think gareth edward given project filmmak everywher learn budget use\n",
            "                     ROOT                                                                                                                                                                                                                                                                                                                                                                                                                                                                                                                                                              \n",
            "                      |                                                                                                                                                                                                                                                                                                                                                                                                                                                                                                                                                                 \n",
            "                      S                                                                                                                                                                                                                                                                                                                                                                                                                                                                                                                                                                \n",
            "         _____________|____________________                                                                                                                                                                                                                                                                                                                                                                                                                                                                                                                                             \n",
            "        |                                  VP                                                                                                                                                                                                                                                                                                                                                                                                                                                                                                                                          \n",
            "        |              ____________________|___________________________________                                                                                                                                                                                                                                                                                                                                                                                                                                                                                                         \n",
            "        |             |                                                        NP                                                                                                                                                                                                                                                                                                                                                                                                                                                                                                      \n",
            "        |             |              __________________________________________|__________________________________                                                                                                                                                                                                                                                                                                                                                                                                                                                                      \n",
            "        |             |             |                                                                            SBAR                                                                                                                                                                                                                                                                                                                                                                                                                                                                  \n",
            "        |             |             |                                                                             |                                                                                                                                                                                                                                                                                                                                                                                                                                                                     \n",
            "        |             |             |                                                                             S                                                                                                                                                                                                                                                                                                                                                                                                                                                                    \n",
            "        |             |             |                                                  ___________________________|__________________________                                                                                                                                                                                                                                                                                                                                                                                                                                           \n",
            "        |             |             |                                                 |                                                      VP                                                                                                                                                                                                                                                                                                                                                                                                                                        \n",
            "        |             |             |                                                 |                            __________________________|______________________________________________________                                                                                                                                                                                                                                                                                                                                                                                    \n",
            "        |             |             |                                                 |                           |           |                           |                                        SBAR                                                                                                                                                                                                                                                                                                                                                                                \n",
            "        |             |             |                                                 |                           |           |                           |             ____________________________|_______________________________                                                                                                                                                                                                                                                                                                                                                    \n",
            "        |             |             |                                                 |                           |           |                           |            |                                                            S                                                                                                                                                                                                                                                                                                                                                  \n",
            "        |             |             |                                                 |                           |           |                           |            |            ________________________________________________|___________________________________________________________                                                                                                                                                                                                                                                                                        \n",
            "        |             |             |                                                 |                           |           |                           |            |           |                                                                                                            VP                                                                                                                                                                                                                                                                                     \n",
            "        |             |             |                                                 |                           |           |                           |            |           |           _________________________________________________________________________________________________|____________________________________________________________________________________________                                                                                                                                                                                           \n",
            "        |             |             |                                                 |                           |           |                           |            |           |          |                                                                                                                                                                                             SBAR                                                                                                                                                                                       \n",
            "        |             |             |                                                 |                           |           |                           |            |           |          |                                                                                                                                                                                              |                                                                                                                                                                                          \n",
            "        |             |             |                                                 |                           |           |                           |            |           |          |                                                                                                                                                                                              S                                                                                                                                                                                         \n",
            "        |             |             |                                                 |                           |           |                           |            |           |          |           ___________________________________________________________________________________________________________________________________________________________________________________|_____                                                                                                                                                                                     \n",
            "        |             |             |                                                 |                           |           |                           |            |           |          |          |                                                                                                                                                                                         VP                                                                                                                                                                                  \n",
            "        |             |             |                                                 |                           |           |                           |            |           |          |          |          _______________________________________________________________________________________________________________________________________________________________________________|____                                                                                                                                                                                \n",
            "        |             |             |                                                 |                           |           |                           |            |           |          |          |         |                                                                                                                                                                                   SBAR                                                                                                                                                                            \n",
            "        |             |             |                                                 |                           |           |                           |            |           |          |          |         |                                                                                                                                                                                    |                                                                                                                                                                               \n",
            "        |             |             |                                                 |                           |           |                           |            |           |          |          |         |                                                                                                                                                                                    S                                                                                                                                                                              \n",
            "        |             |             |                                                 |                           |           |                           |            |           |          |          |         |           _________________________________________________________________________________________________________________________________________________________________________|__________________________________________________________________________________________________________________________________________________________________             \n",
            "        |             |             |                                                 |                           |           |                           |            |           |          |          |         |          NP                                                                                                                                                                                                                                                                                                                                           |           \n",
            "        |             |             |                                                 |                           |           |                           |            |           |          |          |         |      ____|_____                                                                                                                                                                                                                                                                                                                                       |            \n",
            "        |             |             |                                                 |                           |           |                           |            |           |          |          |         |     |         SBAR                                                                                                                                                                                                                                                                                                                                    |           \n",
            "        |             |             |                                                 |                           |           |                           |            |           |          |          |         |     |     _____|_______                                                                                                                                                                                                                                                                                                                               |            \n",
            "        |             |             |                                                 |                           |           |                           |            |           |          |          |         |     |    |             S                                                                                                                                                                                                                                                                                                                              |           \n",
            "        |             |             |                                                 |                           |           |                           |            |           |          |          |         |     |    |             |                                                                                                                                                                                                                                                                                                                              |            \n",
            "        |             |             |                                                 |                           |           |                           |            |           |          |          |         |     |    |             VP                                                                                                                                                                                                                                                                                                                             |           \n",
            "        |             |             |                                                 |                           |           |                           |            |           |          |          |         |     |    |      _______|___________________                                                                                                                                                                                                                                                                                                           |            \n",
            "        |             |             |                                                 |                           |           |                           |            |           |          |          |         |     |    |     |                          SBAR                                                                                                                                                                                                                                                                                                        |           \n",
            "        |             |             |                                                 |                           |           |                           |            |           |          |          |         |     |    |     |                           |                                                                                                                                                                                                                                                                                                          |            \n",
            "        |             |             |                                                 |                           |           |                           |            |           |          |          |         |     |    |     |                           S                                                                                                                                                                                                                                                                                                          |           \n",
            "        |             |             |                                                 |                           |           |                           |            |           |          |          |         |     |    |     |              _____________|_______________                                                                                                                                                                                                                                                                                           |            \n",
            "        |             |             |                                                 |                           |           |                           |            |           |          |          |         |     |    |     |             |                             VP                                                                                                                                                                                                                                                                                         |           \n",
            "        |             |             |                                                 |                           |           |                           |            |           |          |          |         |     |    |     |             |              _______________|__________                                                                                                                                                                                                                                                                                |            \n",
            "        |             |             |                                                 |                           |           |                           |            |           |          |          |         |     |    |     |             |             |                         SBAR                                                                                                                                                                                                                                                                             |           \n",
            "        |             |             |                                                 |                           |           |                           |            |           |          |          |         |     |    |     |             |             |                          |                                                                                                                                                                                                                                                                               |            \n",
            "        |             |             |                                                 |                           |           |                           |            |           |          |          |         |     |    |     |             |             |                          S                                                                                                                                                                                                                                                                               |           \n",
            "        |             |             |                                                 |                           |           |                           |            |           |          |          |         |     |    |     |             |             |                __________|_____________                                                                                                                                                                                                                                                                  |            \n",
            "        |             |             |                                                 |                           |           |                           |            |           |          |          |         |     |    |     |             |             |               |                        VP                                                                                                                                                                                                                                                                |           \n",
            "        |             |             |                                                 |                           |           |                           |            |           |          |          |         |     |    |     |             |             |               |           _____________|___________________                                                                                                                                                                                                                                              |            \n",
            "        |             |             |                                                 |                           |           |                           |            |           |          |          |         |     |    |     |             |             |               |          |                                SBAR                                                                                                                                                                                                                                           |           \n",
            "        |             |             |                                                 |                           |           |                           |            |           |          |          |         |     |    |     |             |             |               |          |                                 |                                                                                                                                                                                                                                             |            \n",
            "        |             |             |                                                 |                           |           |                           |            |           |          |          |         |     |    |     |             |             |               |          |                                 S                                                                                                                                                                                                                                             |           \n",
            "        |             |             |                                                 |                           |           |                           |            |           |          |          |         |     |    |     |             |             |               |          |         ________________________|_______________________                                                                                                                                                                                                                      |            \n",
            "        |             |             |                                                 |                           |           |                           |            |           |          |          |         |     |    |     |             |             |               |          |        |                                                VP                                                                                                                                                                                                                    |           \n",
            "        |             |             |                                                 |                           |           |                           |            |           |          |          |         |     |    |     |             |             |               |          |        |           _____________________________________|_______________________________________________________                                                                                                                                                              |            \n",
            "        |             |             |                                                 |                           |           |                           |            |           |          |          |         |     |    |     |             |             |               |          |        |          |                    |                                                                       ADVP                                                                                                                                                           |           \n",
            "        |             |             |                                                 |                           |           |                           |            |           |          |          |         |     |    |     |             |             |               |          |        |          |                    |                                                                    ____|__________________                                                                                                                                           |            \n",
            "        |             |             |                                                 |                           |           |                           |            |           |          |          |         |     |    |     |             |             |               |          |        |          |                    |                                                                   |    |                 SBAR                                                                                                                                        |           \n",
            "        |             |             |                                                 |                           |           |                           |            |           |          |          |         |     |    |     |             |             |               |          |        |          |                    |                                                                   |    |                  |                                                                                                                                          |            \n",
            "        |             |             |                                                 |                           |           |                           |            |           |          |          |         |     |    |     |             |             |               |          |        |          |                    |                                                                   |    |                  S                                                                                                                                          |           \n",
            "        |             |             |                                                 |                           |           |                           |            |           |          |          |         |     |    |     |             |             |               |          |        |          |                    |                                                                   |    |          ________|___________                                                                                                                               |            \n",
            "        |             |             |                                                 |                           |           |                           |            |           |          |          |         |     |    |     |             |             |               |          |        |          |                    |                                                                   |    |         |                    VP                                                                                                                             |           \n",
            "        |             |             |                                                 |                           |           |                           |            |           |          |          |         |     |    |     |             |             |               |          |        |          |                    |                                                                   |    |         |         ___________|_______________                                                                                                               |            \n",
            "        |             |             |                                                 |                           |           |                           |            |           |          |          |         |     |    |     |             |             |               |          |        |          |                    |                                                                   |    |         |        |                           NP                                                                                                             |           \n",
            "        |             |             |                                                 |                           |           |                           |            |           |          |          |         |     |    |     |             |             |               |          |        |          |                    |                                                                   |    |         |        |            _______________|_____________________                                                                                         |            \n",
            "        |             |             |                                                 |                           |           |                           |            |           |          |          |         |     |    |     |             |             |               |          |        |          |                    |                                                                   |    |         |        |           |                                    SBAR                                                                                      |           \n",
            "        |             |             |                                                 |                           |           |                           |            |           |          |          |         |     |    |     |             |             |               |          |        |          |                    |                                                                   |    |         |        |           |                                     |                                                                                        |            \n",
            "        |             |             |                                                 |                           |           |                           |            |           |          |          |         |     |    |     |             |             |               |          |        |          |                    S                                                                   |    |         |        |           |                                     S                                                                                        |           \n",
            "        |             |             |                                                 |                           |           |                           |            |           |          |          |         |     |    |     |             |             |               |          |        |          |                    |                                                                   |    |         |        |           |                          ___________|_________                                                                               |            \n",
            "        |             |             |                                                 |                           |           |                           |            |           |          |          |         |     |    |     |             |             |               |          |        |          |                    VP                                                                  |    |         |        |           |                         |                     VP                                                                             |           \n",
            "        |             |             |                                                 |                           |           |                           |            |           |          |          |         |     |    |     |             |             |               |          |        |          |       _____________|___________                                                        |    |         |        |           |                         |                 ____|____________                                                                  |            \n",
            "        |             |             |                                                 |                           |           |                           |            |           |          |          |         |     |    |     |             |             |               |          |        |          |      |                         S                                                       |    |         |        |           |                         |                |                SBAR                                                               |           \n",
            "        |             |             |                                                 |                           |           |                           |            |           |          |          |         |     |    |     |             |             |               |          |        |          |      |              ___________|________                                               |    |         |        |           |                         |                |                 |                                                                 |            \n",
            "        |             |             |                                                 |                           |           |                           |            |           |          |          |         |     |    |     |             |             |               |          |        |          |      |             |                    VP                                             |    |         |        |           |                         |                |                 S                                                                 |           \n",
            "        |             |             |                                                 |                           |           |                           |            |           |          |          |         |     |    |     |             |             |               |          |        |          |      |             |                 ___|_______                                       |    |         |        |           |                         |                |           ______|_____________                                                    |            \n",
            "        |             |             |                                                 NP                          |           |                           |            |           |          |          |         |     |    |     |             |             |               |          |        |          |      |             |                |           NP                                     |    |         |        |           |                         |                |          |                    VP                                                  |           \n",
            "        |             |             |                                           ______|__________________         |           |                           |            |           |          |          |         |     |    |     |             |             |               |          |        |          |      |             |                |        ___|_____________                         |    |         |        |           |                         |                |          |               _____|_____________                                      |            \n",
            "        |             |             |                                          |                        ADJP      |           |                           PP           |           |          |          |         |     |    |     |             |             |               |          |        |          |      |             |                |       |                 PP                       |    |         |        |           |                         |                |          |              |                   VP                                    VP          \n",
            "        |             |             |                                          |                     ____|____    |           |                      _____|_____       |           |          |          |         |     |    |     |             |             |               |          |        |          |      |             |                |       |          _______|_______                 |    |         |        |           |                         |                |          |              |      _____________|______                          _____|_____       \n",
            "        NP            |             NP                                         NP                   |         NP  |           NP                    |           NP     |           NP         |          NP        |     NP  WHNP   |             NP            |               NP         |        NP         |      |             NP               |       NP        |               NP               |    |         NP       |           NP                        NP               |          NP             |     |                    NP                       |           NP    \n",
            "   _____|______       |      _______|____________        ______________________|______________      |         |   |      _____|______________       |           |      |       ____|___       |      ____|____     |     |    |     |        _____|______       |        _______|_____     |     ___|____      |      |       ______|___________     |    ___|___      |        _______|___________     |    |     ____|___     |      _____|_________       _________|___________     |     _____|______        |     |       _____________|________________        |      _____|___   \n",
            "  NN    NN    NNS    VBP    NN      CD     NN    NN    NNS          NNS        NN     NN     NNS    JJ        CD VBP    JJ    NN     NN      NN     IN          NN     IN     NN       NN    VBZ    NN        NN  VBP    NN   WP   VBP      JJ           NN    VBP      JJ      NN   NNS  VBP   JJ       NN   VBP     VB     JJ     JJ    JJ   NNS   VB  CD      NN    IN      JJ      NN    NN   NNS   RB   RB   NN      NNS  VBP    JJ    JJ   JJ  NNS    JJ   JJ   NN    NN   NNS  VBP   NN           NN     VBP    VB     JJ    VBN     NN      NN       NN     VBP    NN        NN\n",
            "  |     |      |      |     |       |      |     |      |            |         |      |       |     |         |   |     |     |      |       |      |           |      |      |        |      |     |         |    |     |    |     |       |            |      |       |       |     |    |    |        |     |      |      |      |     |     |    |   |       |     |       |       |     |     |    |    |    |        |    |     |     |    |    |     |    |    |     |     |    |    |            |       |     |      |      |      |       |        |       |     |         |  \n",
            "lesson movi industri use  budget million dollar use splendidli cinematographi amaz terribl surpris rogu      one act  great stori decentit wasnt without     problem though stori     move increas pace     point lose track what happen suspens     disbelief need momentsth theme stori make  ai     robot think succeed expens human human stori end one     face except joshuath dynam joshua alfi far  best part     movi act  great twoit good movi great mean  im support movi tri someth     newoveral think gareth edward given project filmmak everywher learn budget     use\n",
            "\n"
          ]
        }
      ]
    },
    {
      "cell_type": "code",
      "source": [
        "import spacy\n",
        "import pandas as pd\n",
        "from collections import defaultdict\n",
        "\n",
        "# Load the English NER model\n",
        "nlp = spacy.load(\"en_core_web_sm\")\n",
        "\n",
        "# Read the cleaned_reviews.csv\n",
        "df = pd.read_csv('cleaned_reviews.csv')\n",
        "\n",
        "# Ensure the 'clean_text' column exists\n",
        "if 'Cleaned Review' not in df.columns:\n",
        "    raise ValueError(\"The 'clean_text' column is not present in the CSV.\")\n",
        "\n",
        "# Dictionary to store counts of each entity\n",
        "entity_counts = defaultdict(int)\n",
        "\n",
        "# Process each review in the DataFrame\n",
        "for review in df['Cleaned Review']:\n",
        "    doc = nlp(str(review))  # Convert to string in case there are NaN values\n",
        "    for ent in doc.ents:\n",
        "        entity_counts[ent.label_] += 1\n",
        "\n",
        "# Print the counts of each entity\n",
        "for entity, count in entity_counts.items():\n",
        "    print(f\"{entity}: {count}\")\n"
      ],
      "metadata": {
        "colab": {
          "base_uri": "https://localhost:8080/"
        },
        "id": "zAZAMebXg1-E",
        "outputId": "8d2eaff6-a538-4bda-b3b1-596263cbfd7a"
      },
      "execution_count": 3,
      "outputs": [
        {
          "output_type": "stream",
          "name": "stdout",
          "text": [
            "ORG: 6600\n",
            "CARDINAL: 10800\n",
            "PERSON: 15800\n",
            "TIME: 400\n",
            "DATE: 1600\n",
            "NORP: 3000\n",
            "GPE: 5400\n",
            "ORDINAL: 2800\n",
            "FAC: 400\n",
            "LOC: 800\n"
          ]
        }
      ]
    },
    {
      "cell_type": "markdown",
      "metadata": {
        "id": "xWOtvT2rHNWy"
      },
      "source": [
        "**Write your explanations of the constituency parsing tree and dependency parsing tree here (Question 3-2):**"
      ]
    },
    {
      "cell_type": "markdown",
      "source": [
        "Dependency Parsing:\n",
        "Think of dependency parsing like making a family tree. Each word in the sentence is like a family member, and we draw lines (like family connections) to show how they're related. For example, \"jumps\" is like the main person in the family, and we draw lines to show that it connects to other words like \"fox\" and \"dog.\" These lines tell us who does what to whom in the sentence.\n",
        "\n",
        "Constituency Parsing:\n",
        "Constituency parsing is more like putting together a puzzle. We break the sentence into smaller pieces, like \"The quick brown fox\" and \"jumps over the lazy dog.\" These pieces are like puzzle parts. We then break those pieces into even smaller ones until we have all the individual words. It shows us how the words fit together to make sentences.\n",
        "\n",
        "In simple terms, dependency parsing helps us see who's doing what in a sentence, while constituency parsing helps us understand how words and phrases come together to create sentences. Both are like tools to understand sentences better."
      ],
      "metadata": {
        "id": "g42Y2ymjy5EP"
      }
    }
  ],
  "metadata": {
    "colab": {
      "provenance": [],
      "include_colab_link": true
    },
    "kernelspec": {
      "display_name": "Python 3 (ipykernel)",
      "language": "python",
      "name": "python3"
    },
    "language_info": {
      "codemirror_mode": {
        "name": "ipython",
        "version": 3
      },
      "file_extension": ".py",
      "mimetype": "text/x-python",
      "name": "python",
      "nbconvert_exporter": "python",
      "pygments_lexer": "ipython3",
      "version": "3.9.12"
    }
  },
  "nbformat": 4,
  "nbformat_minor": 0
}