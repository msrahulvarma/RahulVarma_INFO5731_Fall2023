{
  "cells": [
    {
      "cell_type": "markdown",
      "metadata": {
        "id": "view-in-github",
        "colab_type": "text"
      },
      "source": [
        "<a href=\"https://colab.research.google.com/github/msrahulvarma/RahulVarma_INFO5731_Fall2023/blob/main/Muppalla_RahulVarma_Exercise_01.ipynb\" target=\"_parent\"><img src=\"https://colab.research.google.com/assets/colab-badge.svg\" alt=\"Open In Colab\"/></a>"
      ]
    },
    {
      "cell_type": "markdown",
      "metadata": {
        "id": "DymRJbxDBCnf"
      },
      "source": [
        "# **The first In-class-exercise (08/30/2023, 40 points in total)**\n",
        "This exercise is due tomorrow 08/31/203 11:59 PM.\n"
      ]
    },
    {
      "cell_type": "markdown",
      "source": [
        "(1) Write a Python program to calculate the area of a rectangle using user-input length and width."
      ],
      "metadata": {
        "id": "FBKvD6O_TY6e"
      }
    },
    {
      "cell_type": "code",
      "source": [
        "# Get user input\n",
        "length = float(input(\"Enter the length of the rectangle: \"))\n",
        "width = float(input(\"Enter the width of the rectangle: \"))\n",
        "\n",
        "# formula for area\n",
        "area = length * width\n",
        "\n",
        "# area of the rectangle\n",
        "print(\"The area of the rectangle is:\", area)"
      ],
      "metadata": {
        "id": "cikVKDXdTbzE",
        "colab": {
          "base_uri": "https://localhost:8080/"
        },
        "outputId": "f320e337-bfe4-412e-b0ee-8440fc7db0bc"
      },
      "execution_count": null,
      "outputs": [
        {
          "output_type": "stream",
          "name": "stdout",
          "text": [
            "Enter the length of the rectangle: 20.5\n",
            "Enter the width of the rectangle: 10.5\n",
            "The area of the rectangle is: 215.25\n"
          ]
        }
      ]
    },
    {
      "cell_type": "markdown",
      "source": [
        "(2) Create a program that takes two numbers from the user and swaps their values without using a temporary variable."
      ],
      "metadata": {
        "id": "E9RqrlwdTfvl"
      }
    },
    {
      "cell_type": "code",
      "source": [
        "# Get user input\n",
        "num1 = int(input(\"Enter the first number: \"))\n",
        "num2 = int(input(\"Enter the second number: \"))\n",
        "\n",
        "# Swaping values without using a temporary variable\n",
        "num1 = num1 + num2\n",
        "num2 = num1 - num2\n",
        "num1 = num1 - num2\n",
        "\n",
        "# results\n",
        "print(\"First number:\", num1)\n",
        "print(\"Second number:\", num2)"
      ],
      "metadata": {
        "id": "4XvRknixTh1g",
        "colab": {
          "base_uri": "https://localhost:8080/"
        },
        "outputId": "6532f241-9bf8-4677-d612-bc13810c0b6d"
      },
      "execution_count": null,
      "outputs": [
        {
          "output_type": "stream",
          "name": "stdout",
          "text": [
            "Enter the first number: 20\n",
            "Enter the second number: 30\n",
            "First number: 30\n",
            "Second number: 20\n"
          ]
        }
      ]
    },
    {
      "cell_type": "markdown",
      "metadata": {
        "id": "03jb4GZsBkBS"
      },
      "source": [
        "(3) Write a Python program to calculate the length of a string."
      ]
    },
    {
      "cell_type": "code",
      "execution_count": null,
      "metadata": {
        "id": "YaGLbSHHB8Ej",
        "colab": {
          "base_uri": "https://localhost:8080/"
        },
        "outputId": "b47f8535-e72a-463a-b9b8-85a47e05fcc1"
      },
      "outputs": [
        {
          "output_type": "stream",
          "name": "stdout",
          "text": [
            "Enter a string: RahulVarma\n",
            "The length of the string is: 10\n"
          ]
        }
      ],
      "source": [
        "# User input for a string\n",
        "input_string = input(\"Enter a string: \")\n",
        "\n",
        "# Calculate the length of the string\n",
        "string_length = len(input_string)\n",
        "\n",
        "# Print result\n",
        "print(\"The length of the string is:\", string_length)\n"
      ]
    },
    {
      "cell_type": "markdown",
      "metadata": {
        "id": "jJDe71iLB616"
      },
      "source": [
        "(4) Write a Python program to count the number of characters in a string.\n",
        "\n",
        "Sample String : 'google.com‘,\n",
        "\n",
        "Expected Result : {'o': 3, 'g': 2, '.': 1, 'e': 1, 'l': 1, 'm': 1, 'c': 1}"
      ]
    },
    {
      "cell_type": "code",
      "execution_count": null,
      "metadata": {
        "id": "MtKskTzbCLaU",
        "colab": {
          "base_uri": "https://localhost:8080/"
        },
        "outputId": "fc20884c-6c7e-48f0-db22-f16fe8c3cd57"
      },
      "outputs": [
        {
          "output_type": "stream",
          "name": "stdout",
          "text": [
            "Character counts: {'g': 2, 'o': 3, 'l': 1, 'e': 1, '.': 1, 'c': 1, 'm': 1}\n"
          ]
        }
      ],
      "source": [
        "# Sample string\n",
        "sample_string = 'google.com'\n",
        "\n",
        "# Create an empty dictionary to store character counts\n",
        "char_count = {}\n",
        "\n",
        "# Iterate through each character in the string\n",
        "for char in sample_string:\n",
        "    # If the character is not already in the dictionary, add it with a count of 1\n",
        "    if char not in char_count:\n",
        "        char_count[char] = 1\n",
        "    else:\n",
        "        # If the character is already in the dictionary, increment its count\n",
        "        char_count[char] += 1\n",
        "\n",
        "# Display the character counts\n",
        "print(\"Character counts:\", char_count)\n",
        "\n",
        "\n",
        "\n",
        "\n",
        "\n"
      ]
    },
    {
      "cell_type": "markdown",
      "metadata": {
        "id": "55W9AMdXCSpV"
      },
      "source": [
        "(5) Write a Python program to sum all the items in a list."
      ]
    },
    {
      "cell_type": "code",
      "execution_count": null,
      "metadata": {
        "id": "I57NXsauCec2",
        "colab": {
          "base_uri": "https://localhost:8080/"
        },
        "outputId": "30aad969-50f0-43db-95b1-b0e8809c7f64"
      },
      "outputs": [
        {
          "output_type": "stream",
          "name": "stdout",
          "text": [
            "Enter a list of numbers separated by spaces: 25 45 65 76 86 99\n",
            "The sum of the numbers in the list is: 396.0\n"
          ]
        }
      ],
      "source": [
        "# Get user input for the list of numbers\n",
        "input_list = input(\"Enter a list of numbers separated by spaces: \")\n",
        "\n",
        "# Convert the input string into a list of numbers\n",
        "num_list = [float(num) for num in input_list.split()]\n",
        "\n",
        "# Calculate the sum of all the items in the list\n",
        "list_sum = sum(num_list)\n",
        "\n",
        "# Display the result\n",
        "print(\"The sum of the numbers in the list is:\", list_sum)\n"
      ]
    },
    {
      "cell_type": "markdown",
      "metadata": {
        "id": "4ulBZ6yhCi9F"
      },
      "source": [
        "(6) Write a Python program to get a string from a given string where all occurrences of its first char have been changed to '\\$', except the first char itself.\n",
        "\n",
        "Sample String : 'restart‘,\n",
        "\n",
        "Expected Result : 'resta\\$t'"
      ]
    },
    {
      "cell_type": "code",
      "execution_count": null,
      "metadata": {
        "id": "Fj0XhwbBCw2o",
        "colab": {
          "base_uri": "https://localhost:8080/"
        },
        "outputId": "dd94ed53-538d-4700-a295-05ba44438205"
      },
      "outputs": [
        {
          "output_type": "stream",
          "name": "stdout",
          "text": [
            "Enter a string: RAHULVARMA\n",
            "Modified string: RAHULVA$MA\n"
          ]
        }
      ],
      "source": [
        "# Get input string from the user\n",
        "input_string = input(\"Enter a string: \")\n",
        "\n",
        "# Extract the first character\n",
        "first_char = input_string[0]\n",
        "\n",
        "# Replace occurrences of the first character (except the first one) with '$'\n",
        "modified_string = first_char + input_string[1:].replace(first_char, '$')\n",
        "\n",
        "# Display the modified string\n",
        "print(\"Modified string:\", modified_string)"
      ]
    },
    {
      "cell_type": "markdown",
      "source": [
        "(7) Create a program that calculates the factorial of a number using a while loop."
      ],
      "metadata": {
        "id": "qVXA3q7ET5JI"
      }
    },
    {
      "cell_type": "code",
      "source": [
        "# Get user input for the number\n",
        "number = int(input(\"Enter a number: \"))\n",
        "\n",
        "# Initialize variables\n",
        "factorial = 1\n",
        "current_number = 1\n",
        "\n",
        "# Calculate the factorial using a while loop\n",
        "while current_number <= number:\n",
        "    factorial *= current_number\n",
        "    current_number += 1\n",
        "\n",
        "# Display the factorial\n",
        "print(f\"The factorial of {number} is {factorial}\")"
      ],
      "metadata": {
        "id": "Lbt7R6UkT7BA",
        "colab": {
          "base_uri": "https://localhost:8080/"
        },
        "outputId": "2a3a19e5-23ad-4d95-e872-ab27d1625a00"
      },
      "execution_count": null,
      "outputs": [
        {
          "output_type": "stream",
          "name": "stdout",
          "text": [
            "Enter a number: 5\n",
            "The factorial of 5 is 120\n"
          ]
        }
      ]
    },
    {
      "cell_type": "markdown",
      "source": [
        "(8) Create a program that takes a list of numbers as input and outputs a new list with only the even numbers."
      ],
      "metadata": {
        "id": "6YfbzXMNT--R"
      }
    },
    {
      "cell_type": "code",
      "source": [
        "# Get user input for the list of numbers\n",
        "input_list = input(\"Enter a list of numbers separated by spaces: \")\n",
        "\n",
        "# Convert the input string into a list of numbers\n",
        "num_list = [int(num) for num in input_list.split()]\n",
        "\n",
        "# Initialize an empty list to store even numbers\n",
        "even_numbers = []\n",
        "\n",
        "# Iterate through the numbers and filter out the even ones\n",
        "for num in num_list:\n",
        "    if num % 2 == 0:\n",
        "        even_numbers.append(num)\n",
        "\n",
        "# Display the list of even numbers\n",
        "print(\"List of even numbers:\", even_numbers)\n"
      ],
      "metadata": {
        "id": "54q7wMQPUAKu",
        "colab": {
          "base_uri": "https://localhost:8080/"
        },
        "outputId": "fc3d6918-df9f-42d6-a5da-62c2de559726"
      },
      "execution_count": null,
      "outputs": [
        {
          "output_type": "stream",
          "name": "stdout",
          "text": [
            "Enter a list of numbers separated by spaces: 11 34 55 65 44 56 78 99 12\n",
            "List of even numbers: [34, 44, 56, 78, 12]\n"
          ]
        }
      ]
    },
    {
      "cell_type": "markdown",
      "metadata": {
        "id": "_bIP7s1MCzue"
      },
      "source": [
        "(9) Write a program with python which could accept two parameter a and b to calculate and output the result of S, where\n",
        "\n",
        "$\\ S=3.14*(1+a/b)^3$\n",
        "\n"
      ]
    },
    {
      "cell_type": "code",
      "execution_count": null,
      "metadata": {
        "id": "w79QilHXD3Mg",
        "colab": {
          "base_uri": "https://localhost:8080/"
        },
        "outputId": "a8af982a-d2f0-4e82-8128-6282247da538"
      },
      "outputs": [
        {
          "output_type": "stream",
          "name": "stdout",
          "text": [
            "Enter the value of 'a': 15\n",
            "Enter the value of 'b': 5\n",
            "The result of the formula is: 200.96\n"
          ]
        }
      ],
      "source": [
        "# Get user input for 'a' and 'b'\n",
        "a = float(input(\"Enter the value of 'a': \"))\n",
        "b = float(input(\"Enter the value of 'b': \"))\n",
        "\n",
        "# Calculate the result of the formula\n",
        "S = 3.14 * (1 + a/b)**3\n",
        "\n",
        "# Display the result\n",
        "print(\"The result of the formula is:\", S)\n"
      ]
    },
    {
      "cell_type": "markdown",
      "metadata": {
        "id": "xCa2bK9aD4Q3"
      },
      "source": [
        "(10) Write a Python program to concatenate following dictionaries to create a new one.\n",
        "\n",
        "Sample Dictionary : dic1={1:10, 2:20}, dic2={3:30, 4:40}, dic3={5:50,6:60},\n",
        "\n",
        "Expected Result : {1: 10, 2: 20, 3: 30, 4: 40, 5: 50, 6: 60}\n"
      ]
    },
    {
      "cell_type": "code",
      "execution_count": null,
      "metadata": {
        "id": "_z4aLqAbEET1",
        "colab": {
          "base_uri": "https://localhost:8080/"
        },
        "outputId": "d8ba3971-0283-4b91-caf9-90437b9fe417"
      },
      "outputs": [
        {
          "output_type": "stream",
          "name": "stdout",
          "text": [
            "{1: 10, 2: 20, 3: 30, 4: 40, 5: 50, 6: 60}\n"
          ]
        }
      ],
      "source": [
        "dic1 = {1:10, 2:20}\n",
        "dic2 = {3:30, 4:40}\n",
        "dic3 = {5:50,6:60}\n",
        "\n",
        "# Concatenate the dictionaries using the ** operator\n",
        "dic4 = {**dic1, **dic2, **dic3}\n",
        "\n",
        "print(dic4)\n"
      ]
    },
    {
      "cell_type": "markdown",
      "source": [
        "(11) Write a Python function that accepts a tuple of integers and returns the largest and smallest elements."
      ],
      "metadata": {
        "id": "bkyZ2xSZUOst"
      }
    },
    {
      "cell_type": "code",
      "source": [
        "def find_largest_and_smallest(numbers):\n",
        "    if not numbers:\n",
        "        return None, None  # Return None for empty tuple\n",
        "\n",
        "    largest = smallest = numbers[0]\n",
        "\n",
        "    for num in numbers:\n",
        "        if num > largest:\n",
        "            largest = num\n",
        "        elif num < smallest:\n",
        "            smallest = num\n",
        "\n",
        "    return largest, smallest\n",
        "\n",
        "# Example usage\n",
        "input_tuple = (5, 12, 3, 8, 7)\n",
        "largest, smallest = find_largest_and_smallest(input_tuple)\n",
        "print(\"Largest:\", largest)\n",
        "print(\"Smallest:\", smallest)\n",
        "\n",
        "\n",
        "\n",
        "\n"
      ],
      "metadata": {
        "id": "3FdLRBKOUQEd",
        "colab": {
          "base_uri": "https://localhost:8080/"
        },
        "outputId": "3606ca03-cde9-4dc3-bacd-9bba498d9443"
      },
      "execution_count": null,
      "outputs": [
        {
          "output_type": "stream",
          "name": "stdout",
          "text": [
            "Largest: 12\n",
            "Smallest: 3\n"
          ]
        }
      ]
    },
    {
      "cell_type": "markdown",
      "source": [
        "(12) Write a Python program that counts the frequency of each character in a given string and stores it in a dictionary."
      ],
      "metadata": {
        "id": "O0TVi3gKUTpp"
      }
    },
    {
      "cell_type": "code",
      "source": [
        "def char_frequency(str1):\n",
        "  \"\"\"\n",
        "  This function counts the frequency of each character in a given string and stores it in a dictionary.\n",
        "\n",
        "  Args:\n",
        "    str1: The string to be analyzed.\n",
        "\n",
        "  Returns:\n",
        "    A dictionary of character frequencies.\n",
        "  \"\"\"\n",
        "\n",
        "  char_freq = {}\n",
        "\n",
        "  for char in str1:\n",
        "    if char in char_freq:\n",
        "      char_freq[char] += 1\n",
        "    else:\n",
        "      char_freq[char] = 1\n",
        "\n",
        "  return char_freq\n",
        "\n",
        "\n",
        "str1 = \"This is a sample string.\"\n",
        "\n",
        "char_freq = char_frequency(str1)\n",
        "\n",
        "print(char_freq)"
      ],
      "metadata": {
        "id": "lAtfSfZXUU-h",
        "colab": {
          "base_uri": "https://localhost:8080/"
        },
        "outputId": "11fb6a1f-3775-404c-8850-f998b9e81906"
      },
      "execution_count": null,
      "outputs": [
        {
          "output_type": "stream",
          "name": "stdout",
          "text": [
            "{'T': 1, 'h': 1, 'i': 3, 's': 4, ' ': 4, 'a': 2, 'm': 1, 'p': 1, 'l': 1, 'e': 1, 't': 1, 'r': 1, 'n': 1, 'g': 1, '.': 1}\n"
          ]
        }
      ]
    },
    {
      "cell_type": "markdown",
      "metadata": {
        "id": "0v48Vqa7FrQh"
      },
      "source": [
        "(13) Write a Python program to check whether an element exists within a tuple."
      ]
    },
    {
      "cell_type": "code",
      "execution_count": null,
      "metadata": {
        "id": "7WEmgq-DF2P1",
        "colab": {
          "base_uri": "https://localhost:8080/"
        },
        "outputId": "aae5c9d8-4a8c-4d14-e23b-0581370e9ebc"
      },
      "outputs": [
        {
          "output_type": "stream",
          "name": "stdout",
          "text": [
            "True\n"
          ]
        }
      ],
      "source": [
        "def is_element_exist(tuple1, element):\n",
        "  \"\"\"\n",
        "  This function checks whether an element exists within a tuple.\n",
        "\n",
        "  Args:\n",
        "    tuple1: The tuple to be searched.\n",
        "    element: The element to be searched for.\n",
        "\n",
        "  Returns:\n",
        "    True if the element is found in the tuple, False otherwise.\n",
        "  \"\"\"\n",
        "\n",
        "  for ele in tuple1:\n",
        "    if ele == element:\n",
        "      return True\n",
        "\n",
        "  return False\n",
        "\n",
        "\n",
        "tuple1 = (1, 2, 3, 4, 5)\n",
        "element = 3\n",
        "\n",
        "print(is_element_exist(tuple1, element))\n"
      ]
    },
    {
      "cell_type": "markdown",
      "metadata": {
        "id": "vD5PYLMuGga_"
      },
      "source": [
        "(14) Write a Python program to find maximum and the minimum value in a set."
      ]
    },
    {
      "cell_type": "code",
      "execution_count": 3,
      "metadata": {
        "id": "t0D5kdJUGjjw",
        "colab": {
          "base_uri": "https://localhost:8080/"
        },
        "outputId": "eb572d63-9eb7-4653-fdbc-f02f1ff4ef69"
      },
      "outputs": [
        {
          "output_type": "stream",
          "name": "stdout",
          "text": [
            "Enter a set of numbers separated by spaces: 7 8 9 10\n",
            "The maximum value is 10\n",
            "The minimum value is 7\n"
          ]
        }
      ],
      "source": [
        "def find_max_min(set_numbers):\n",
        "\n",
        "  max_value = None\n",
        "  min_value = None\n",
        "\n",
        "  for number in set_numbers:\n",
        "    if max_value is None or number > max_value:\n",
        "      max_value = number\n",
        "\n",
        "    if min_value is None or number < min_value:\n",
        "      min_value = number\n",
        "\n",
        "  return max_value, min_value\n",
        "\n",
        "\n",
        "def main():\n",
        "  # Get the set of numbers from the user.\n",
        "  set_numbers = set(int(number) for number in input(\"Enter a set of numbers separated by spaces: \").split())\n",
        "\n",
        "  # Find the maximum and minimum values in the set.\n",
        "  max_value, min_value = find_max_min(set_numbers)\n",
        "\n",
        "  # Print the maximum and minimum values.\n",
        "  print(\"The maximum value is\", max_value)\n",
        "  print(\"The minimum value is\", min_value)\n",
        "\n",
        "\n",
        "if __name__ == \"__main__\":\n",
        "  main()\n"
      ]
    },
    {
      "cell_type": "markdown",
      "metadata": {
        "id": "uHkd-y5VhVWC"
      },
      "source": [
        "(15) Write a Python program to randomly divide the students in this class into six groups for term projects, each group should have at least 4 students but no more than 6 students (including 6). Here is the students list:\n",
        "student_list_fall_2023=['sb1826' ,\n",
        " 'lb0582' ,\n",
        " 'ab1820' ,\n",
        " 'sb1883' ,\n",
        " 'mb1296' ,\n",
        " 'sc1622' ,\n",
        " 'tc0469' ,\n",
        " 'ac1770' ,\n",
        " 'mc1453' ,\n",
        " 'ad1187' ,\n",
        " 'sd0926' ,\n",
        " 'sd1268' ,\n",
        " 'ag1609' ,\n",
        " 'sg1638' ,\n",
        " 'mg1299' ,\n",
        " 'vkk0022' ,\n",
        " 'bk0413' ,\n",
        " 'gk0257' ,\n",
        " 'am2807' ,\n",
        " 'gm0558' ,\n",
        " 'pm0658' ,\n",
        " 'am2346' ,\n",
        " 'rm1090' ,\n",
        " 'sm2364' ,\n",
        " 'sm2747' ,\n",
        " 'sm2343' ,\n",
        " 'vm0597' ,\n",
        " 'htn0086' ,\n",
        " 'sp2075' ,\n",
        " 'gp0306' ,\n",
        " 'lp0502' ,\n",
        " 'sr1508' ,\n",
        " 'vr0331' ,\n",
        " 'yr0180' ,\n",
        " 'as2819' ,\n",
        " 'ss2981' ,\n",
        " 'ns0756' ,\n",
        " 'mt0825' ,\n",
        " 'dt0463' ,\n",
        " 'su0137' ,\n",
        " 'dv0310'\n",
        "]"
      ]
    },
    {
      "cell_type": "code",
      "execution_count": 4,
      "metadata": {
        "id": "3iGbmcOBhTwy",
        "colab": {
          "base_uri": "https://localhost:8080/"
        },
        "outputId": "291a15c3-4d9e-4b0d-98c5-6dc47c59a2e6"
      },
      "outputs": [
        {
          "output_type": "stream",
          "name": "stdout",
          "text": [
            "['sg1638', 'sb1883', 'gp0306', 'htn0086', 'mc1453', 'mt0825']\n",
            "['gm0558', 'ad1187', 'sg1638', 'ac1770', 'rm1090', 'su0137']\n",
            "['htn0086', 'gp0306', 'vm0597', 'sm2343', 'vkk0022', 'sb1826']\n",
            "['pm0658', 'bk0413', 'mt0825', 'dv0310', 'sg1638', 'sm2364']\n",
            "['vr0331', 'sm2343', 'am2807', 'mg1299', 'su0137', 'sb1883']\n",
            "['vkk0022', 'sm2747', 'sm2364', 'sm2747', 'sp2075', 'sp2075']\n"
          ]
        }
      ],
      "source": [
        "import random\n",
        "\n",
        "student_list_fall_2023 = [\n",
        "    \"sb1826\",\n",
        "    \"lb0582\",\n",
        "    \"ab1820\",\n",
        "    \"sb1883\",\n",
        "    \"mb1296\",\n",
        "    \"sc1622\",\n",
        "    \"tc0469\",\n",
        "    \"ac1770\",\n",
        "    \"mc1453\",\n",
        "    \"ad1187\",\n",
        "    \"sd0926\",\n",
        "    \"sd1268\",\n",
        "    \"ag1609\",\n",
        "    \"sg1638\",\n",
        "    \"mg1299\",\n",
        "    \"vkk0022\",\n",
        "    \"bk0413\",\n",
        "    \"gk0257\",\n",
        "    \"am2807\",\n",
        "    \"gm0558\",\n",
        "    \"pm0658\",\n",
        "    \"am2346\",\n",
        "    \"rm1090\",\n",
        "    \"sm2364\",\n",
        "    \"sm2747\",\n",
        "    \"sm2343\",\n",
        "    \"vm0597\",\n",
        "    \"htn0086\",\n",
        "    \"sp2075\",\n",
        "    \"gp0306\",\n",
        "    \"lp0502\",\n",
        "    \"sr1508\",\n",
        "    \"vr0331\",\n",
        "    \"yr0180\",\n",
        "    \"as2819\",\n",
        "    \"ss2981\",\n",
        "    \"ns0756\",\n",
        "    \"mt0825\",\n",
        "    \"dt0463\",\n",
        "    \"su0137\",\n",
        "    \"dv0310\",\n",
        "]\n",
        "\n",
        "# Get the total number of students.\n",
        "total_students = len(student_list_fall_2023)\n",
        "\n",
        "# Calculate the number of students in each group.\n",
        "num_students_per_group = total_students // 6\n",
        "\n",
        "# Create a list to store the groups.\n",
        "groups = []\n",
        "\n",
        "# Iterate over the students and add them to the groups randomly.\n",
        "for i in range(6):\n",
        "    group = []\n",
        "    for j in range(num_students_per_group):\n",
        "        student_index = random.randint(0, total_students - 1)\n",
        "        group.append(student_list_fall_2023[student_index])\n",
        "    groups.append(group)\n",
        "\n",
        "# Print the groups.\n",
        "for group in groups:\n",
        "    print(group)\n"
      ]
    },
    {
      "cell_type": "markdown",
      "metadata": {
        "id": "fmZ9vX20Qs3d"
      },
      "source": [
        "(16) Write a Python program to find the duplicate elements in a given array of integers. Return -1 If there are no such elements."
      ]
    },
    {
      "cell_type": "code",
      "execution_count": 9,
      "metadata": {
        "id": "W8Jw6sWMQs3d",
        "colab": {
          "base_uri": "https://localhost:8080/"
        },
        "outputId": "fcbc70f2-e6a5-45df-a3b7-fe322825c09d"
      },
      "outputs": [
        {
          "output_type": "stream",
          "name": "stdout",
          "text": [
            "Enter the array of integers separated by spaces: 1 2 3 4 4 5 5 \n",
            "Duplicate elements: [4, 5]\n"
          ]
        }
      ],
      "source": [
        "def find_duplicate_elements(arr):\n",
        "    frequency = {}\n",
        "    duplicates = []\n",
        "\n",
        "    for num in arr:\n",
        "        if num in frequency:\n",
        "            frequency[num] += 1\n",
        "        else:\n",
        "            frequency[num] = 1\n",
        "\n",
        "    for num, count in frequency.items():\n",
        "        if count > 1:\n",
        "            duplicates.append(num)\n",
        "\n",
        "    return duplicates if duplicates else -1\n",
        "\n",
        "# Taking user input for the array\n",
        "try:\n",
        "    input_string = input(\"Enter the array of integers separated by spaces: \")\n",
        "    input_array = list(map(int, input_string.split()))\n",
        "\n",
        "    result = find_duplicate_elements(input_array)\n",
        "\n",
        "    if result == -1:\n",
        "        print(\"No duplicate elements found.\")\n",
        "    else:\n",
        "        print(\"Duplicate elements:\", result)\n",
        "except ValueError:\n",
        "    print(\"Invalid input. Please enter integers separated by spaces.\")"
      ]
    },
    {
      "cell_type": "markdown",
      "metadata": {
        "id": "hvq4APMhQs3d"
      },
      "source": [
        "(17) Write a Python program to select all the Sundays of a specified year."
      ]
    },
    {
      "cell_type": "code",
      "execution_count": 14,
      "metadata": {
        "id": "ZnoxhSglQs3d",
        "colab": {
          "base_uri": "https://localhost:8080/"
        },
        "outputId": "538a8935-d354-4b13-c83d-0748df30f91b"
      },
      "outputs": [
        {
          "output_type": "stream",
          "name": "stdout",
          "text": [
            "Enter the year: 2023\n",
            "Sundays in 2023 are:\n",
            "January 01, 2023\n",
            "January 08, 2023\n",
            "January 15, 2023\n",
            "January 22, 2023\n",
            "January 29, 2023\n",
            "February 05, 2023\n",
            "February 05, 2023\n",
            "February 12, 2023\n",
            "February 19, 2023\n",
            "February 26, 2023\n",
            "March 05, 2023\n",
            "March 05, 2023\n",
            "March 12, 2023\n",
            "March 19, 2023\n",
            "March 26, 2023\n",
            "April 02, 2023\n",
            "April 02, 2023\n",
            "April 09, 2023\n",
            "April 16, 2023\n",
            "April 23, 2023\n",
            "April 30, 2023\n",
            "May 07, 2023\n",
            "May 07, 2023\n",
            "May 14, 2023\n",
            "May 21, 2023\n",
            "May 28, 2023\n",
            "June 04, 2023\n",
            "June 04, 2023\n",
            "June 11, 2023\n",
            "June 18, 2023\n",
            "June 25, 2023\n",
            "July 02, 2023\n",
            "July 02, 2023\n",
            "July 09, 2023\n",
            "July 16, 2023\n",
            "July 23, 2023\n",
            "July 30, 2023\n",
            "August 06, 2023\n",
            "August 06, 2023\n",
            "August 13, 2023\n",
            "August 20, 2023\n",
            "August 27, 2023\n",
            "September 03, 2023\n",
            "September 03, 2023\n",
            "September 10, 2023\n",
            "September 17, 2023\n",
            "September 24, 2023\n",
            "October 01, 2023\n",
            "October 01, 2023\n",
            "October 08, 2023\n",
            "October 15, 2023\n",
            "October 22, 2023\n",
            "October 29, 2023\n",
            "November 05, 2023\n",
            "November 05, 2023\n",
            "November 12, 2023\n",
            "November 19, 2023\n",
            "November 26, 2023\n",
            "December 03, 2023\n",
            "December 03, 2023\n",
            "December 10, 2023\n",
            "December 17, 2023\n",
            "December 24, 2023\n",
            "December 31, 2023\n",
            "January 07, 2024\n"
          ]
        }
      ],
      "source": [
        "import datetime\n",
        "\n",
        "def find_sundays(year):\n",
        "    sundays = []\n",
        "\n",
        "    # Iterate through all the months of the specified year\n",
        "    for month in range(1, 13):\n",
        "        # Generate the first day of the month\n",
        "        first_day = datetime.date(year, month, 1)\n",
        "\n",
        "        # Calculate the weekday of the first day (Monday is 0, Sunday is 6)\n",
        "        weekday = first_day.weekday()\n",
        "\n",
        "        # Calculate the offset to the next Sunday\n",
        "        offset = (6 - weekday) % 7\n",
        "\n",
        "        # Calculate the date of the first Sunday\n",
        "        first_sunday = first_day + datetime.timedelta(days=offset)\n",
        "\n",
        "        # Add the first Sunday to the list\n",
        "        sundays.append(first_sunday)\n",
        "\n",
        "        # Continue adding Sundays by adding 7 days to the previous Sunday\n",
        "        while first_sunday.month == month:\n",
        "            first_sunday += datetime.timedelta(days=7)\n",
        "            sundays.append(first_sunday)\n",
        "\n",
        "    return sundays\n",
        "\n",
        "# Taking user input for the year\n",
        "try:\n",
        "    year = int(input(\"Enter the year: \"))\n",
        "\n",
        "    sundays = find_sundays(year)\n",
        "\n",
        "    if sundays:\n",
        "        print(\"Sundays in\", year, \"are:\")\n",
        "        for sunday in sundays:\n",
        "            print(sunday.strftime(\"%B %d, %Y\"))\n",
        "    else:\n",
        "        print(\"No Sundays found in\", year)\n",
        "except ValueError:\n",
        "    print(\"Invalid input. Please enter a valid year.\")\n",
        "\n"
      ]
    },
    {
      "cell_type": "markdown",
      "source": [
        "(18) Build a program that calculates the factorial of a given positive integer. The factorial of a non-negative integer n is the product of all positive integers less than or equal to n."
      ],
      "metadata": {
        "id": "55FWoSJPVVM6"
      }
    },
    {
      "cell_type": "code",
      "source": [
        "def factorial(n):\n",
        "    if n < 0:\n",
        "        return \"Factorial is not defined for negative numbers.\"\n",
        "\n",
        "    result = 1\n",
        "    for i in range(1, n + 1):\n",
        "        result *= i\n",
        "    return result\n",
        "\n",
        "try:\n",
        "    n = int(input(\"Enter a positive integer: \"))\n",
        "\n",
        "    result = factorial(n)\n",
        "\n",
        "    print(f\"The factorial of {n} is:\", result)\n",
        "except ValueError:\n",
        "    print(\"Invalid input. Please enter a valid positive integer.\")\n"
      ],
      "metadata": {
        "id": "hwtr1wZmVX5A",
        "colab": {
          "base_uri": "https://localhost:8080/"
        },
        "outputId": "532eab5e-b5d2-49c5-ef5b-861ba31eeaf1"
      },
      "execution_count": 13,
      "outputs": [
        {
          "output_type": "stream",
          "name": "stdout",
          "text": [
            "Enter a positive integer: 5\n",
            "The factorial of 5 is: 120\n"
          ]
        }
      ]
    },
    {
      "cell_type": "markdown",
      "source": [
        "(19) Write a program that takes a positive integer n as input and prints the count of even numbers from 1 to n. Use a loop to iterate through the numbers and utilize the break statement to optimize the loop."
      ],
      "metadata": {
        "id": "Q9ecagcaVazW"
      }
    },
    {
      "cell_type": "code",
      "source": [
        "def count_even_numbers(n):\n",
        "    count = 0\n",
        "    for num in range(1, n + 1):\n",
        "        if num % 2 == 0:\n",
        "            count += 1\n",
        "        elif num > n:\n",
        "            break\n",
        "    return count\n",
        "\n",
        "try:\n",
        "    n = int(input(\"Enter a positive integer: \"))\n",
        "\n",
        "    if n < 1:\n",
        "        print(\"Please enter a positive integer.\")\n",
        "    else:\n",
        "        even_count = count_even_numbers(n)\n",
        "        print(f\"The count of even numbers from 1 to {n} is:\", even_count)\n",
        "except ValueError:\n",
        "    print(\"Invalid input. Please enter a valid positive integer.\")\n",
        "\n"
      ],
      "metadata": {
        "id": "gycgckoAVZjR",
        "colab": {
          "base_uri": "https://localhost:8080/"
        },
        "outputId": "8f7225c4-1c8b-46bf-9a62-e086e89299c1"
      },
      "execution_count": 15,
      "outputs": [
        {
          "output_type": "stream",
          "name": "stdout",
          "text": [
            "Enter a positive integer: 3\n",
            "The count of even numbers from 1 to 3 is: 1\n"
          ]
        }
      ]
    },
    {
      "cell_type": "markdown",
      "source": [
        "(20) Write a Python function called count_vowels that takes a string as input and returns the count of vowels (both lowercase and uppercase) present in the string. Consider the vowels to be 'a', 'e', 'i', 'o', and 'u'. Ignore spaces and other non-alphabetic characters."
      ],
      "metadata": {
        "id": "cboAr5pEWUf5"
      }
    },
    {
      "cell_type": "code",
      "source": [
        "def count_vowels(input_str):\n",
        "    vowels = \"aeiouAEIOU\"\n",
        "    vowel_count = 0\n",
        "\n",
        "    for char in input_str:\n",
        "        if char in vowels:\n",
        "            vowel_count += 1\n",
        "\n",
        "    return vowel_count\n",
        "\n",
        "try:\n",
        "    user_input = input(\"Enter a string: \")\n",
        "    vowel_count = count_vowels(user_input)\n",
        "    print(f\"The count of vowels in the input string is:\", vowel_count)\n",
        "except:\n",
        "    print(\"An error occurred while processing the input.\")"
      ],
      "metadata": {
        "id": "phs9gciMWWAW",
        "colab": {
          "base_uri": "https://localhost:8080/"
        },
        "outputId": "126b4d7f-b564-4172-ccd2-13f556ac13ec"
      },
      "execution_count": 17,
      "outputs": [
        {
          "output_type": "stream",
          "name": "stdout",
          "text": [
            "Enter a string: yrfxyxzutcyvqwertyuiosdfghjmk\n",
            "The count of vowels in the input string is: 5\n"
          ]
        }
      ]
    }
  ],
  "metadata": {
    "colab": {
      "provenance": [],
      "include_colab_link": true
    },
    "kernelspec": {
      "display_name": "Python 3 (ipykernel)",
      "language": "python",
      "name": "python3"
    },
    "language_info": {
      "codemirror_mode": {
        "name": "ipython",
        "version": 3
      },
      "file_extension": ".py",
      "mimetype": "text/x-python",
      "name": "python",
      "nbconvert_exporter": "python",
      "pygments_lexer": "ipython3",
      "version": "3.9.12"
    }
  },
  "nbformat": 4,
  "nbformat_minor": 0
}